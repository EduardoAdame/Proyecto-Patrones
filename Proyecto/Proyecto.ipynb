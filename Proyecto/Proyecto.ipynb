{
 "cells": [
  {
   "cell_type": "markdown",
   "id": "5d756588",
   "metadata": {},
   "source": [
    "###  Reconocimiento de Patrones y Aprendizaje Automatizado\n",
    "#### ----------------------------------------------------------------------------------------------------------------------------------------------------------------------------------------\n",
    "### Proyecto: Hongos Venenosos y Comestibles\n",
    "#### ----------------------------------------------------------------------------------------------------------------------------------------------------------------------------------------\n",
    "#### Integrantes: \n",
    "#### Úrsula Vanessa Sánchez Rodríguez\n",
    "#### Adame Serrano Eduardo."
   ]
  },
  {
   "cell_type": "markdown",
   "id": "d019d399",
   "metadata": {},
   "source": [
    "#### Inspiración\n",
    "* ¿Qué tipos de modelos de aprendizaje automático funcionan mejor en este conjunto de datos?\n",
    "\n",
    "* ¿Qué características son más indicativas de un hongo venenoso?"
   ]
  },
  {
   "cell_type": "markdown",
   "id": "7f46aa39",
   "metadata": {},
   "source": [
    "#### Librerías"
   ]
  },
  {
   "cell_type": "markdown",
   "id": "cd1e0035",
   "metadata": {},
   "source": [
    "Importamos las librerías"
   ]
  },
  {
   "cell_type": "code",
   "execution_count": 3,
   "id": "de9c17db",
   "metadata": {},
   "outputs": [],
   "source": [
    "import pandas as pd\n",
    "import numpy as np\n",
    "from tabulate import tabulate\n",
    "from sklearn.preprocessing import OneHotEncoder\n",
    "from sklearn.decomposition import PCA\n",
    "from sklearn.model_selection import train_test_split\n",
    "from sklearn.feature_selection import SelectKBest, chi2\n",
    "from keras.models import Sequential\n",
    "from keras.layers import Dense\n",
    "import matplotlib.pyplot as plt\n",
    "from sklearn.model_selection import cross_val_score\n",
    "from keras.wrappers.scikit_learn import KerasClassifier"
   ]
  },
  {
   "cell_type": "markdown",
   "id": "c48ce881",
   "metadata": {},
   "source": [
    "Cargamos el archivo "
   ]
  },
  {
   "cell_type": "code",
   "execution_count": 10,
   "id": "aed7578f",
   "metadata": {
    "scrolled": false
   },
   "outputs": [
    {
     "name": "stdout",
     "output_type": "stream",
     "text": [
      "CPU times: total: 15.6 ms\n",
      "Wall time: 78.5 ms\n"
     ]
    },
    {
     "data": {
      "text/html": [
       "<div>\n",
       "<style scoped>\n",
       "    .dataframe tbody tr th:only-of-type {\n",
       "        vertical-align: middle;\n",
       "    }\n",
       "\n",
       "    .dataframe tbody tr th {\n",
       "        vertical-align: top;\n",
       "    }\n",
       "\n",
       "    .dataframe thead th {\n",
       "        text-align: right;\n",
       "    }\n",
       "</style>\n",
       "<table border=\"1\" class=\"dataframe\">\n",
       "  <thead>\n",
       "    <tr style=\"text-align: right;\">\n",
       "      <th></th>\n",
       "      <th>class</th>\n",
       "      <th>cap-shape</th>\n",
       "      <th>cap-surface</th>\n",
       "      <th>cap-color</th>\n",
       "      <th>bruises</th>\n",
       "      <th>odor</th>\n",
       "      <th>gill-attachment</th>\n",
       "      <th>gill-spacing</th>\n",
       "      <th>gill-size</th>\n",
       "      <th>gill-color</th>\n",
       "      <th>...</th>\n",
       "      <th>stalk-surface-below-ring</th>\n",
       "      <th>stalk-color-above-ring</th>\n",
       "      <th>stalk-color-below-ring</th>\n",
       "      <th>veil-type</th>\n",
       "      <th>veil-color</th>\n",
       "      <th>ring-number</th>\n",
       "      <th>ring-type</th>\n",
       "      <th>spore-print-color</th>\n",
       "      <th>population</th>\n",
       "      <th>habitat</th>\n",
       "    </tr>\n",
       "  </thead>\n",
       "  <tbody>\n",
       "    <tr>\n",
       "      <th>0</th>\n",
       "      <td>p</td>\n",
       "      <td>x</td>\n",
       "      <td>s</td>\n",
       "      <td>n</td>\n",
       "      <td>t</td>\n",
       "      <td>p</td>\n",
       "      <td>f</td>\n",
       "      <td>c</td>\n",
       "      <td>n</td>\n",
       "      <td>k</td>\n",
       "      <td>...</td>\n",
       "      <td>s</td>\n",
       "      <td>w</td>\n",
       "      <td>w</td>\n",
       "      <td>p</td>\n",
       "      <td>w</td>\n",
       "      <td>o</td>\n",
       "      <td>p</td>\n",
       "      <td>k</td>\n",
       "      <td>s</td>\n",
       "      <td>u</td>\n",
       "    </tr>\n",
       "    <tr>\n",
       "      <th>1</th>\n",
       "      <td>e</td>\n",
       "      <td>x</td>\n",
       "      <td>s</td>\n",
       "      <td>y</td>\n",
       "      <td>t</td>\n",
       "      <td>a</td>\n",
       "      <td>f</td>\n",
       "      <td>c</td>\n",
       "      <td>b</td>\n",
       "      <td>k</td>\n",
       "      <td>...</td>\n",
       "      <td>s</td>\n",
       "      <td>w</td>\n",
       "      <td>w</td>\n",
       "      <td>p</td>\n",
       "      <td>w</td>\n",
       "      <td>o</td>\n",
       "      <td>p</td>\n",
       "      <td>n</td>\n",
       "      <td>n</td>\n",
       "      <td>g</td>\n",
       "    </tr>\n",
       "    <tr>\n",
       "      <th>2</th>\n",
       "      <td>e</td>\n",
       "      <td>b</td>\n",
       "      <td>s</td>\n",
       "      <td>w</td>\n",
       "      <td>t</td>\n",
       "      <td>l</td>\n",
       "      <td>f</td>\n",
       "      <td>c</td>\n",
       "      <td>b</td>\n",
       "      <td>n</td>\n",
       "      <td>...</td>\n",
       "      <td>s</td>\n",
       "      <td>w</td>\n",
       "      <td>w</td>\n",
       "      <td>p</td>\n",
       "      <td>w</td>\n",
       "      <td>o</td>\n",
       "      <td>p</td>\n",
       "      <td>n</td>\n",
       "      <td>n</td>\n",
       "      <td>m</td>\n",
       "    </tr>\n",
       "    <tr>\n",
       "      <th>3</th>\n",
       "      <td>p</td>\n",
       "      <td>x</td>\n",
       "      <td>y</td>\n",
       "      <td>w</td>\n",
       "      <td>t</td>\n",
       "      <td>p</td>\n",
       "      <td>f</td>\n",
       "      <td>c</td>\n",
       "      <td>n</td>\n",
       "      <td>n</td>\n",
       "      <td>...</td>\n",
       "      <td>s</td>\n",
       "      <td>w</td>\n",
       "      <td>w</td>\n",
       "      <td>p</td>\n",
       "      <td>w</td>\n",
       "      <td>o</td>\n",
       "      <td>p</td>\n",
       "      <td>k</td>\n",
       "      <td>s</td>\n",
       "      <td>u</td>\n",
       "    </tr>\n",
       "    <tr>\n",
       "      <th>4</th>\n",
       "      <td>e</td>\n",
       "      <td>x</td>\n",
       "      <td>s</td>\n",
       "      <td>g</td>\n",
       "      <td>f</td>\n",
       "      <td>n</td>\n",
       "      <td>f</td>\n",
       "      <td>w</td>\n",
       "      <td>b</td>\n",
       "      <td>k</td>\n",
       "      <td>...</td>\n",
       "      <td>s</td>\n",
       "      <td>w</td>\n",
       "      <td>w</td>\n",
       "      <td>p</td>\n",
       "      <td>w</td>\n",
       "      <td>o</td>\n",
       "      <td>e</td>\n",
       "      <td>n</td>\n",
       "      <td>a</td>\n",
       "      <td>g</td>\n",
       "    </tr>\n",
       "    <tr>\n",
       "      <th>...</th>\n",
       "      <td>...</td>\n",
       "      <td>...</td>\n",
       "      <td>...</td>\n",
       "      <td>...</td>\n",
       "      <td>...</td>\n",
       "      <td>...</td>\n",
       "      <td>...</td>\n",
       "      <td>...</td>\n",
       "      <td>...</td>\n",
       "      <td>...</td>\n",
       "      <td>...</td>\n",
       "      <td>...</td>\n",
       "      <td>...</td>\n",
       "      <td>...</td>\n",
       "      <td>...</td>\n",
       "      <td>...</td>\n",
       "      <td>...</td>\n",
       "      <td>...</td>\n",
       "      <td>...</td>\n",
       "      <td>...</td>\n",
       "      <td>...</td>\n",
       "    </tr>\n",
       "    <tr>\n",
       "      <th>8119</th>\n",
       "      <td>e</td>\n",
       "      <td>k</td>\n",
       "      <td>s</td>\n",
       "      <td>n</td>\n",
       "      <td>f</td>\n",
       "      <td>n</td>\n",
       "      <td>a</td>\n",
       "      <td>c</td>\n",
       "      <td>b</td>\n",
       "      <td>y</td>\n",
       "      <td>...</td>\n",
       "      <td>s</td>\n",
       "      <td>o</td>\n",
       "      <td>o</td>\n",
       "      <td>p</td>\n",
       "      <td>o</td>\n",
       "      <td>o</td>\n",
       "      <td>p</td>\n",
       "      <td>b</td>\n",
       "      <td>c</td>\n",
       "      <td>l</td>\n",
       "    </tr>\n",
       "    <tr>\n",
       "      <th>8120</th>\n",
       "      <td>e</td>\n",
       "      <td>x</td>\n",
       "      <td>s</td>\n",
       "      <td>n</td>\n",
       "      <td>f</td>\n",
       "      <td>n</td>\n",
       "      <td>a</td>\n",
       "      <td>c</td>\n",
       "      <td>b</td>\n",
       "      <td>y</td>\n",
       "      <td>...</td>\n",
       "      <td>s</td>\n",
       "      <td>o</td>\n",
       "      <td>o</td>\n",
       "      <td>p</td>\n",
       "      <td>n</td>\n",
       "      <td>o</td>\n",
       "      <td>p</td>\n",
       "      <td>b</td>\n",
       "      <td>v</td>\n",
       "      <td>l</td>\n",
       "    </tr>\n",
       "    <tr>\n",
       "      <th>8121</th>\n",
       "      <td>e</td>\n",
       "      <td>f</td>\n",
       "      <td>s</td>\n",
       "      <td>n</td>\n",
       "      <td>f</td>\n",
       "      <td>n</td>\n",
       "      <td>a</td>\n",
       "      <td>c</td>\n",
       "      <td>b</td>\n",
       "      <td>n</td>\n",
       "      <td>...</td>\n",
       "      <td>s</td>\n",
       "      <td>o</td>\n",
       "      <td>o</td>\n",
       "      <td>p</td>\n",
       "      <td>o</td>\n",
       "      <td>o</td>\n",
       "      <td>p</td>\n",
       "      <td>b</td>\n",
       "      <td>c</td>\n",
       "      <td>l</td>\n",
       "    </tr>\n",
       "    <tr>\n",
       "      <th>8122</th>\n",
       "      <td>p</td>\n",
       "      <td>k</td>\n",
       "      <td>y</td>\n",
       "      <td>n</td>\n",
       "      <td>f</td>\n",
       "      <td>y</td>\n",
       "      <td>f</td>\n",
       "      <td>c</td>\n",
       "      <td>n</td>\n",
       "      <td>b</td>\n",
       "      <td>...</td>\n",
       "      <td>k</td>\n",
       "      <td>w</td>\n",
       "      <td>w</td>\n",
       "      <td>p</td>\n",
       "      <td>w</td>\n",
       "      <td>o</td>\n",
       "      <td>e</td>\n",
       "      <td>w</td>\n",
       "      <td>v</td>\n",
       "      <td>l</td>\n",
       "    </tr>\n",
       "    <tr>\n",
       "      <th>8123</th>\n",
       "      <td>e</td>\n",
       "      <td>x</td>\n",
       "      <td>s</td>\n",
       "      <td>n</td>\n",
       "      <td>f</td>\n",
       "      <td>n</td>\n",
       "      <td>a</td>\n",
       "      <td>c</td>\n",
       "      <td>b</td>\n",
       "      <td>y</td>\n",
       "      <td>...</td>\n",
       "      <td>s</td>\n",
       "      <td>o</td>\n",
       "      <td>o</td>\n",
       "      <td>p</td>\n",
       "      <td>o</td>\n",
       "      <td>o</td>\n",
       "      <td>p</td>\n",
       "      <td>o</td>\n",
       "      <td>c</td>\n",
       "      <td>l</td>\n",
       "    </tr>\n",
       "  </tbody>\n",
       "</table>\n",
       "<p>8124 rows × 23 columns</p>\n",
       "</div>"
      ],
      "text/plain": [
       "     class cap-shape cap-surface cap-color bruises odor gill-attachment  \\\n",
       "0        p         x           s         n       t    p               f   \n",
       "1        e         x           s         y       t    a               f   \n",
       "2        e         b           s         w       t    l               f   \n",
       "3        p         x           y         w       t    p               f   \n",
       "4        e         x           s         g       f    n               f   \n",
       "...    ...       ...         ...       ...     ...  ...             ...   \n",
       "8119     e         k           s         n       f    n               a   \n",
       "8120     e         x           s         n       f    n               a   \n",
       "8121     e         f           s         n       f    n               a   \n",
       "8122     p         k           y         n       f    y               f   \n",
       "8123     e         x           s         n       f    n               a   \n",
       "\n",
       "     gill-spacing gill-size gill-color  ... stalk-surface-below-ring  \\\n",
       "0               c         n          k  ...                        s   \n",
       "1               c         b          k  ...                        s   \n",
       "2               c         b          n  ...                        s   \n",
       "3               c         n          n  ...                        s   \n",
       "4               w         b          k  ...                        s   \n",
       "...           ...       ...        ...  ...                      ...   \n",
       "8119            c         b          y  ...                        s   \n",
       "8120            c         b          y  ...                        s   \n",
       "8121            c         b          n  ...                        s   \n",
       "8122            c         n          b  ...                        k   \n",
       "8123            c         b          y  ...                        s   \n",
       "\n",
       "     stalk-color-above-ring stalk-color-below-ring veil-type veil-color  \\\n",
       "0                         w                      w         p          w   \n",
       "1                         w                      w         p          w   \n",
       "2                         w                      w         p          w   \n",
       "3                         w                      w         p          w   \n",
       "4                         w                      w         p          w   \n",
       "...                     ...                    ...       ...        ...   \n",
       "8119                      o                      o         p          o   \n",
       "8120                      o                      o         p          n   \n",
       "8121                      o                      o         p          o   \n",
       "8122                      w                      w         p          w   \n",
       "8123                      o                      o         p          o   \n",
       "\n",
       "     ring-number ring-type spore-print-color population habitat  \n",
       "0              o         p                 k          s       u  \n",
       "1              o         p                 n          n       g  \n",
       "2              o         p                 n          n       m  \n",
       "3              o         p                 k          s       u  \n",
       "4              o         e                 n          a       g  \n",
       "...          ...       ...               ...        ...     ...  \n",
       "8119           o         p                 b          c       l  \n",
       "8120           o         p                 b          v       l  \n",
       "8121           o         p                 b          c       l  \n",
       "8122           o         e                 w          v       l  \n",
       "8123           o         p                 o          c       l  \n",
       "\n",
       "[8124 rows x 23 columns]"
      ]
     },
     "execution_count": 10,
     "metadata": {},
     "output_type": "execute_result"
    }
   ],
   "source": [
    "%%time\n",
    "data = pd.read_csv('mushrooms.csv')\n",
    "data"
   ]
  },
  {
   "cell_type": "markdown",
   "id": "ae9a8db1",
   "metadata": {},
   "source": [
    "### Análisis exploratorio."
   ]
  },
  {
   "cell_type": "markdown",
   "id": "70d7b3ec",
   "metadata": {},
   "source": [
    "1. Identificamos las variables que contiene el dataset "
   ]
  },
  {
   "cell_type": "markdown",
   "id": "2b8f9f7b",
   "metadata": {},
   "source": [
    "* Información de atributos: (clases = class: comestible = e, venenoso = p)\n",
    "\n",
    "* Forma de la tapa: campana = b, cónico = c, convexo = x, plano = f, perilla = k, hundido = s\n",
    "\n",
    "* Cap-surface: fibroso = F, ranuras = g, escamosas = y, lisas = s\n",
    "\n",
    "* Cap-color: marrón = N, Buff = B, Canela = C, Gris = G, Verde = R, Rosa = P, Púrpura = U, Rojo = E, Blanco = W, Amarillo = Y\n",
    "\n",
    "* Moretones: moretones = t, no = f\n",
    "\n",
    "* Olor: almendra = a, anís = L, creosota = C, pescado = y, foul = f, mohoso = m, ninguno = N, picante = P, picante = S\n",
    "\n",
    "* Gill-attachment = Fijación branquial: attached=a,descending=d,free=f,notched=n\n",
    "\n",
    "* Gill-spacing= Espaciado branquial: close = c, crowded = w, distante = d\n",
    "\n",
    "* Gill-size = tamaño de branquias: ancho = b, estrecho = n\n",
    "\n",
    "* Gill-color = color de branquias: negro = k, marrón = N, buff = B, chocolate = H, gris = G, verde = R, naranja = O, rosa = p, púrpura = U, rojo = E, blanco = W, amarillo = Y\n",
    "\n",
    "* Forma del tallo: agrandando = e, tapering = t\n",
    "\n",
    "* Raíz-tallo: bulboso = b, club = c, copa = u, igual = e, rizomorfos = z, rooted = r, falta =?\n",
    "\n",
    "* Superficie del tallo-por encima del anillo: fibroso = F, escamoso = y, sedoso = K, liso = S\n",
    "\n",
    "* Superficie del tallo-debajo del anillo: fibroso = F, escamoso = y, sedoso = K, liso = S\n",
    "\n",
    "* Tallo-color-encima-del-anillo: marrón=N,Buff=B,Canela=C,Gray=G,Orange=O,Pink=P,Red=E,White=W,Yellow=Y\n",
    "\n",
    "* Tallo-color-debajo-anillo: marrón=N,Buff=B,Canela=C,Gray=G,Orange=O,Pink=P,Red=E,White=W,Yellow=Y\n",
    "\n",
    "* Tipo de velo: parcial = p, universal = u\n",
    "\n",
    "* Color del velo: marrón = n, naranja = o, blanco = w, amarillo = y\n",
    "\n",
    "* Número de anillo: none=n,one=o,two=t\n",
    "\n",
    "* Tipo de anillo: telaraña = c, evanescente = e, flameación = f, grande = l, ninguno = n, colgante = p, revestimiento = s, zona = z\n",
    "\n",
    "* Spore-print-color: negro = k, marrón = n, buff = b, chocolate = h, verde = r, naranja = o, púrpura = u, blanco = w, amarillo = y\n",
    "\n",
    "* Población: abundante=a,agrupada=c,numerosa=n,dispersa=s,varias=v,solitaria=y\n",
    "\n",
    "* Hábitat: pastos = g, hojas = L, prados = m, caminos = p, urbano = U, desperdicio = W, bosques = D\n",
    "\n",
    "Como podemos ver, en todo el conjunto de datos se tienen únicamente variables categóricas, por lo que no será necesario una normalización o estandarización de características numéricas (dado que no hay)."
   ]
  },
  {
   "cell_type": "markdown",
   "id": "5e43a623",
   "metadata": {},
   "source": [
    "2. Identificación datos nulos."
   ]
  },
  {
   "cell_type": "code",
   "execution_count": 11,
   "id": "07892adc",
   "metadata": {},
   "outputs": [
    {
     "name": "stdout",
     "output_type": "stream",
     "text": [
      "╒══════════════════════════╤═════════════════╕\n",
      "│                          │   Valores Nulos │\n",
      "╞══════════════════════════╪═════════════════╡\n",
      "│ class                    │               0 │\n",
      "├──────────────────────────┼─────────────────┤\n",
      "│ cap-shape                │               0 │\n",
      "├──────────────────────────┼─────────────────┤\n",
      "│ cap-surface              │               0 │\n",
      "├──────────────────────────┼─────────────────┤\n",
      "│ cap-color                │               0 │\n",
      "├──────────────────────────┼─────────────────┤\n",
      "│ bruises                  │               0 │\n",
      "├──────────────────────────┼─────────────────┤\n",
      "│ odor                     │               0 │\n",
      "├──────────────────────────┼─────────────────┤\n",
      "│ gill-attachment          │               0 │\n",
      "├──────────────────────────┼─────────────────┤\n",
      "│ gill-spacing             │               0 │\n",
      "├──────────────────────────┼─────────────────┤\n",
      "│ gill-size                │               0 │\n",
      "├──────────────────────────┼─────────────────┤\n",
      "│ gill-color               │               0 │\n",
      "├──────────────────────────┼─────────────────┤\n",
      "│ stalk-shape              │               0 │\n",
      "├──────────────────────────┼─────────────────┤\n",
      "│ stalk-root               │               0 │\n",
      "├──────────────────────────┼─────────────────┤\n",
      "│ stalk-surface-above-ring │               0 │\n",
      "├──────────────────────────┼─────────────────┤\n",
      "│ stalk-surface-below-ring │               0 │\n",
      "├──────────────────────────┼─────────────────┤\n",
      "│ stalk-color-above-ring   │               0 │\n",
      "├──────────────────────────┼─────────────────┤\n",
      "│ stalk-color-below-ring   │               0 │\n",
      "├──────────────────────────┼─────────────────┤\n",
      "│ veil-type                │               0 │\n",
      "├──────────────────────────┼─────────────────┤\n",
      "│ veil-color               │               0 │\n",
      "├──────────────────────────┼─────────────────┤\n",
      "│ ring-number              │               0 │\n",
      "├──────────────────────────┼─────────────────┤\n",
      "│ ring-type                │               0 │\n",
      "├──────────────────────────┼─────────────────┤\n",
      "│ spore-print-color        │               0 │\n",
      "├──────────────────────────┼─────────────────┤\n",
      "│ population               │               0 │\n",
      "├──────────────────────────┼─────────────────┤\n",
      "│ habitat                  │               0 │\n",
      "╘══════════════════════════╧═════════════════╛\n"
     ]
    }
   ],
   "source": [
    " # Calcula la cantidad de valores nulos por columna\n",
    "nulos_por_columna = data.isna().sum()\n",
    "\n",
    "# Crea un DataFrame con los resultados\n",
    "tabla_nulos = pd.DataFrame(nulos_por_columna, columns=['Valores Nulos'])\n",
    "\n",
    "# Convierte la tabla de valores nulos en una tabla formateada\n",
    "tabla_formateada = tabulate(tabla_nulos, headers='keys', tablefmt='fancy_grid')\n",
    "\n",
    "# Imprime la tabla formateada\n",
    "print(tabla_formateada)\n"
   ]
  },
  {
   "cell_type": "markdown",
   "id": "8e3a405a",
   "metadata": {},
   "source": [
    "Lo anterior nos indicaría que ninguna de las características presenta registros nulos, por lo tanto no es necesario dar tratamiento de valores faltantes.\n",
    "\n",
    "Seguido de esto, ahora observemos una tabla de frecuencias de los datos así como de las categorías y registros que hay."
   ]
  },
  {
   "cell_type": "markdown",
   "id": "0c01c468",
   "metadata": {},
   "source": [
    "3. Distribución y frecuencias de los datos."
   ]
  },
  {
   "cell_type": "code",
   "execution_count": 12,
   "id": "441b4fa0",
   "metadata": {},
   "outputs": [
    {
     "name": "stdout",
     "output_type": "stream",
     "text": [
      "╒══════════════════════════╤══════════╤══════════╤═════════════════╤══════════════╕\n",
      "│                          │   Conteo │   Clases │ Más frecuente   │   Frequencia │\n",
      "╞══════════════════════════╪══════════╪══════════╪═════════════════╪══════════════╡\n",
      "│ class                    │     8124 │        2 │ e               │         4208 │\n",
      "├──────────────────────────┼──────────┼──────────┼─────────────────┼──────────────┤\n",
      "│ cap-shape                │     8124 │        6 │ x               │         3656 │\n",
      "├──────────────────────────┼──────────┼──────────┼─────────────────┼──────────────┤\n",
      "│ cap-surface              │     8124 │        4 │ y               │         3244 │\n",
      "├──────────────────────────┼──────────┼──────────┼─────────────────┼──────────────┤\n",
      "│ cap-color                │     8124 │       10 │ n               │         2284 │\n",
      "├──────────────────────────┼──────────┼──────────┼─────────────────┼──────────────┤\n",
      "│ bruises                  │     8124 │        2 │ f               │         4748 │\n",
      "├──────────────────────────┼──────────┼──────────┼─────────────────┼──────────────┤\n",
      "│ odor                     │     8124 │        9 │ n               │         3528 │\n",
      "├──────────────────────────┼──────────┼──────────┼─────────────────┼──────────────┤\n",
      "│ gill-attachment          │     8124 │        2 │ f               │         7914 │\n",
      "├──────────────────────────┼──────────┼──────────┼─────────────────┼──────────────┤\n",
      "│ gill-spacing             │     8124 │        2 │ c               │         6812 │\n",
      "├──────────────────────────┼──────────┼──────────┼─────────────────┼──────────────┤\n",
      "│ gill-size                │     8124 │        2 │ b               │         5612 │\n",
      "├──────────────────────────┼──────────┼──────────┼─────────────────┼──────────────┤\n",
      "│ gill-color               │     8124 │       12 │ b               │         1728 │\n",
      "├──────────────────────────┼──────────┼──────────┼─────────────────┼──────────────┤\n",
      "│ stalk-shape              │     8124 │        2 │ t               │         4608 │\n",
      "├──────────────────────────┼──────────┼──────────┼─────────────────┼──────────────┤\n",
      "│ stalk-root               │     8124 │        5 │ b               │         3776 │\n",
      "├──────────────────────────┼──────────┼──────────┼─────────────────┼──────────────┤\n",
      "│ stalk-surface-above-ring │     8124 │        4 │ s               │         5176 │\n",
      "├──────────────────────────┼──────────┼──────────┼─────────────────┼──────────────┤\n",
      "│ stalk-surface-below-ring │     8124 │        4 │ s               │         4936 │\n",
      "├──────────────────────────┼──────────┼──────────┼─────────────────┼──────────────┤\n",
      "│ stalk-color-above-ring   │     8124 │        9 │ w               │         4464 │\n",
      "├──────────────────────────┼──────────┼──────────┼─────────────────┼──────────────┤\n",
      "│ stalk-color-below-ring   │     8124 │        9 │ w               │         4384 │\n",
      "├──────────────────────────┼──────────┼──────────┼─────────────────┼──────────────┤\n",
      "│ veil-type                │     8124 │        1 │ p               │         8124 │\n",
      "├──────────────────────────┼──────────┼──────────┼─────────────────┼──────────────┤\n",
      "│ veil-color               │     8124 │        4 │ w               │         7924 │\n",
      "├──────────────────────────┼──────────┼──────────┼─────────────────┼──────────────┤\n",
      "│ ring-number              │     8124 │        3 │ o               │         7488 │\n",
      "├──────────────────────────┼──────────┼──────────┼─────────────────┼──────────────┤\n",
      "│ ring-type                │     8124 │        5 │ p               │         3968 │\n",
      "├──────────────────────────┼──────────┼──────────┼─────────────────┼──────────────┤\n",
      "│ spore-print-color        │     8124 │        9 │ w               │         2388 │\n",
      "├──────────────────────────┼──────────┼──────────┼─────────────────┼──────────────┤\n",
      "│ population               │     8124 │        6 │ v               │         4040 │\n",
      "├──────────────────────────┼──────────┼──────────┼─────────────────┼──────────────┤\n",
      "│ habitat                  │     8124 │        7 │ d               │         3148 │\n",
      "╘══════════════════════════╧══════════╧══════════╧═════════════════╧══════════════╛\n"
     ]
    }
   ],
   "source": [
    "# Calcula la descripción estadística y transpón el resultado\n",
    "descripcion = data.describe().T\n",
    "\n",
    "# Cambia los nombres de las columnas para una mejor presentación\n",
    "descripcion.rename(columns={'count': 'Conteo', 'unique': 'Clases', 'top': 'Más frecuente', 'freq': 'Frequencia'}, inplace=True)\n",
    "\n",
    "# Convierte la descripción en una tabla formateada\n",
    "tabla = tabulate(descripcion, headers=descripcion.columns, tablefmt='fancy_grid', floatfmt=\".0f\")\n",
    "\n",
    "# Imprime la tabla formateada\n",
    "print(tabla)"
   ]
  },
  {
   "cell_type": "markdown",
   "id": "6c17a160",
   "metadata": {},
   "source": [
    "A manera de representar la información más visual, se da a continuación una gráfica de barras para las frecuencias de las características en el dataset."
   ]
  },
  {
   "cell_type": "code",
   "execution_count": 13,
   "id": "ae7ae8b6",
   "metadata": {
    "scrolled": false
   },
   "outputs": [
    {
     "data": {
      "image/png": "[encoded data removed]",
      "text/plain": [
       "<Figure size 1000x600 with 1 Axes>"
      ]
     },
     "metadata": {},
     "output_type": "display_data"
    }
   ],
   "source": [
    "# Datos de entrada\n",
    "classes = ['class', 'cap-shape', 'cap-surface', 'cap-color', 'bruises', 'odor', 'gill-attachment',\n",
    "           'gill-spacing', 'gill-size', 'gill-color', 'stalk-shape', 'stalk-root', 'stalk-surface-above-ring',\n",
    "           'stalk-surface-below-ring', 'stalk-color-above-ring', 'stalk-color-below-ring', 'veil-type',\n",
    "           'veil-color', 'ring-number', 'ring-type', 'spore-print-color', 'population', 'habitat']\n",
    "frequencies = [4208, 3656, 3244, 2284, 4748, 3528, 7914, 6812, 5612, 1728, 4608, 3776, 5176, 4936,\n",
    "               4464, 4384, 8124, 7924, 7488, 3968, 2388, 4040, 3148]\n",
    "\n",
    "# Crear degradado de color púrpura\n",
    "color = plt.cm.get_cmap('PuRd')\n",
    "colors = color(np.linspace(0.2, 1, len(classes)))\n",
    "\n",
    "# Crear gráfico de barras\n",
    "plt.figure(figsize=(10, 6))\n",
    "plt.bar(classes, frequencies, color=colors)\n",
    "\n",
    "# Etiquetas y título\n",
    "plt.xlabel('Clases')\n",
    "plt.ylabel('Frecuencia')\n",
    "plt.title('Frecuencia de las clases en el conjunto de datos')\n",
    "\n",
    "# Rotar las etiquetas del eje x para mayor legibilidad\n",
    "plt.xticks(rotation=90)\n",
    "\n",
    "# Mostrar gráfico\n",
    "plt.show()\n"
   ]
  },
  {
   "cell_type": "markdown",
   "id": "ddb688a1",
   "metadata": {},
   "source": [
    "De lo anterior, podemos observar que unas de las características con mayor frecuencia son: \n",
    "\n",
    "* gill-attachment \n",
    "* gill-spacing\n",
    "* veil-type\n",
    "* veil-color\n",
    "* ring-number"
   ]
  },
  {
   "cell_type": "markdown",
   "id": "e74a2859",
   "metadata": {},
   "source": [
    "Una vez realizado el análisis anterior, lo siguiente que haremos es el prepocesamiento de los datos\n",
    "\n",
    "En este caso, debemos codificar las variables categóricas en variables numéricas utilizando la técnica de codificación one-hot. También separaremos las características de las etiquetas"
   ]
  },
  {
   "cell_type": "markdown",
   "id": "daad4a0d",
   "metadata": {},
   "source": [
    "#### 2. Prepocesamiento de los datos"
   ]
  },
  {
   "cell_type": "markdown",
   "id": "e4425041",
   "metadata": {},
   "source": [
    "#### One Hot Encoding"
   ]
  },
  {
   "cell_type": "code",
   "execution_count": 14,
   "id": "a73c9b41",
   "metadata": {
    "scrolled": true
   },
   "outputs": [
    {
     "name": "stdout",
     "output_type": "stream",
     "text": [
      "Dimensiones del conjunto de datos antes de one-hot encoding: (8124, 23)\n",
      "Dimensiones del conjunto de datos después de one-hot encoding: (8124, 119)\n",
      "El número de características despues del one-hot incrementó en 96\n"
     ]
    }
   ],
   "source": [
    "# Obtener las variables categóricas\n",
    "categorical_features = data.columns\n",
    "\n",
    "# Aplicar one-hot encoding a todas las variables categóricas\n",
    "df_encoded = pd.get_dummies(data, columns=categorical_features)\n",
    "\n",
    "# Mostrar las dimensiones del conjunto de datos\n",
    "print(\"Dimensiones del conjunto de datos antes de one-hot encoding:\", data.shape)\n",
    "\n",
    "# Mostrar las dimensiones del nuevo conjunto de datos\n",
    "print(\"Dimensiones del conjunto de datos después de one-hot encoding:\", df_encoded.shape)\n",
    "\n",
    "\n",
    "print('El número de características despues del one-hot incrementó en',df_encoded.shape[1]-data.shape[1],)"
   ]
  },
  {
   "cell_type": "markdown",
   "id": "1d0f7d69",
   "metadata": {},
   "source": [
    "#### 3. División de los datos"
   ]
  },
  {
   "cell_type": "code",
   "execution_count": 88,
   "id": "6addbd74",
   "metadata": {},
   "outputs": [
    {
     "name": "stdout",
     "output_type": "stream",
     "text": [
      "Dimensiones del conjunto de entrenamiento: (5686, 117) (5686, 2)\n",
      "Dimensiones del conjunto de validación: (1219, 117) (1219, 2)\n",
      "Dimensiones del conjunto de prueba: (1219, 117) (1219, 2)\n"
     ]
    }
   ],
   "source": [
    "# División en características y etiquetas\n",
    "X = df_encoded.drop(['class_e', 'class_p'], axis=1)  # Características\n",
    "y = df_encoded[['class_e', 'class_p']]  # Etiquetas codificadas\n",
    "\n",
    "# División en conjuntos de entrenamiento, validación y prueba\n",
    "X_train, X_test, y_train, y_test = train_test_split(X, y, test_size=0.3, random_state=42)\n",
    "X_val, X_test, y_val, y_test = train_test_split(X_test, y_test, test_size=0.5, random_state=42)\n",
    "\n",
    "# Muestra las dimensiones de los conjuntos\n",
    "print(\"Dimensiones del conjunto de entrenamiento:\", X_train.shape, y_train.shape)\n",
    "print(\"Dimensiones del conjunto de validación:\", X_val.shape, y_val.shape)\n",
    "print(\"Dimensiones del conjunto de prueba:\", X_test.shape, y_test.shape)"
   ]
  },
  {
   "cell_type": "markdown",
   "id": "7e6644ea",
   "metadata": {},
   "source": [
    "Una vez que hemos generado los conjuntos de entrenamiento, validación y prueba, seguimos con la eliminación de características irrelevantes."
   ]
  },
  {
   "cell_type": "markdown",
   "id": "0514a4d2",
   "metadata": {},
   "source": [
    "#### 4. Selección de características"
   ]
  },
  {
   "cell_type": "markdown",
   "id": "a07bd1f7",
   "metadata": {},
   "source": [
    "#### Test chi cuadrado\n",
    "\n",
    "El test chi-cuadrado es una técnica estadística utilizada para determinar si existe una relación significativa entre dos variables categóricas. En el contexto de selección de características, se aplica para identificar las características más relevantes que están asociadas de manera significativa con la variable objetivo."
   ]
  },
  {
   "cell_type": "code",
   "execution_count": 27,
   "id": "3afda363",
   "metadata": {},
   "outputs": [
    {
     "name": "stdout",
     "output_type": "stream",
     "text": [
      "Características seleccionadas:\n",
      "['bruises_f', 'bruises_t', 'odor_a', 'odor_f', 'odor_l', 'odor_n', 'odor_s', 'odor_y', 'gill-spacing_w', 'gill-size_b', 'gill-size_n', 'gill-color_b', 'gill-color_n', 'gill-color_u', 'gill-color_w', 'stalk-root_?', 'stalk-root_c', 'stalk-root_e', 'stalk-surface-above-ring_k', 'stalk-surface-above-ring_s', 'stalk-surface-below-ring_k', 'stalk-surface-below-ring_s', 'stalk-color-above-ring_b', 'stalk-color-above-ring_g', 'stalk-color-above-ring_n', 'stalk-color-above-ring_p', 'stalk-color-below-ring_b', 'stalk-color-below-ring_g', 'stalk-color-below-ring_p', 'ring-number_t', 'ring-type_l', 'ring-type_p', 'spore-print-color_h', 'spore-print-color_k', 'spore-print-color_n', 'spore-print-color_w', 'population_a', 'population_n', 'population_v', 'habitat_p'] \n",
      "\n",
      "Dimensiones después de la selección de características:\n",
      "Conjunto de entrenamiento: (5686, 40)\n",
      "Conjunto de validación: (1219, 40)\n",
      "Conjunto de prueba: (1219, 40)\n"
     ]
    }
   ],
   "source": [
    "# Aplicar test chi-cuadrado para seleccionar las K mejores características\n",
    "k = 40  # Número de características a seleccionar\n",
    "selector = SelectKBest(chi2, k=k)\n",
    "X_train_selected = selector.fit_transform(X_train, y_train)\n",
    "X_val_selected = selector.transform(X_val)\n",
    "X_test_selected = selector.transform(X_test)\n",
    "\n",
    "# Obtener los índices de las características seleccionadas\n",
    "selected_feature_indices = selector.get_support(indices=True)\n",
    "\n",
    "# Obtener los nombres de las características seleccionadas\n",
    "selected_feature_names = X_train.columns[selected_feature_indices]\n",
    "\n",
    "# Mostrar las características seleccionadas\n",
    "print(\"Características seleccionadas:\")\n",
    "print(selected_feature_names.tolist(),'\\n')\n",
    "\n",
    "# Mostrar las dimensiones después de la selección de características\n",
    "print(\"Dimensiones después de la selección de características:\")\n",
    "print(\"Conjunto de entrenamiento:\", X_train_selected.shape)\n",
    "print(\"Conjunto de validación:\", X_val_selected.shape)\n",
    "print(\"Conjunto de prueba:\", X_test_selected.shape)\n"
   ]
  },
  {
   "cell_type": "code",
   "execution_count": 23,
   "id": "58b4b2d3",
   "metadata": {},
   "outputs": [
    {
     "name": "stdout",
     "output_type": "stream",
     "text": [
      "Dimensiones después de la selección de características:\n",
      "Conjunto de entrenamiento: (5686, 40)\n",
      "Conjunto de validación: (1219, 40)\n",
      "Conjunto de prueba: (1219, 40)\n"
     ]
    }
   ],
   "source": [
    "# Obtener solo las características seleccionadas\n",
    "X_train_selected = X_train[selected_feature_names]  # Reemplaza con las características seleccionadas\n",
    "X_val_selected = X_val[selected_feature_names]      # Reemplaza con las características seleccionadas\n",
    "X_test_selected = X_test[selected_feature_names]    # Reemplaza con las características seleccionadas\n",
    "\n",
    "# Verificar las dimensiones\n",
    "print(\"Dimensiones después de la selección de características:\")\n",
    "print(\"Conjunto de entrenamiento:\", X_train_selected.shape)\n",
    "print(\"Conjunto de validación:\", X_val_selected.shape)\n",
    "print(\"Conjunto de prueba:\", X_test_selected.shape)"
   ]
  },
  {
   "cell_type": "markdown",
   "id": "7383825a",
   "metadata": {},
   "source": [
    "Las variables seleccionada anteriormente son aquellas características que tienen un impacto estadísticamente relevante en la variable objetivo.\n",
    "\n",
    "Dado que el test chi-cuadrado se utiliza para determinar si hay una asociación significativa entre las variables predictoras (características) y la variable objetivo (clase). En otras palabras, se busca identificar las características que están relacionadas de manera significativa con la variable clase, que en este caso representa la clasificación de los hongos como comestibles (e) o venenosos (p)."
   ]
  },
  {
   "cell_type": "markdown",
   "id": "2272fcab",
   "metadata": {},
   "source": [
    "#### 5. Selección del modelo\n",
    "\n",
    "Se eligió una red neuronal completamente conectada (también conocida como red neuronal de capas densas o Dense) porque es un tipo de arquitectura de red neuronal que permite aprender relaciones complejas entre las características de entrada y la variable objetivo. En este caso, al tener un conjunto de características representadas por variables numéricas, una red neuronal completamente conectada puede capturar patrones no lineales y realizar una clasificación precisa.\n",
    "\n",
    "La elección de una red neuronal completamente conectada se basa en las siguientes consideraciones:\n",
    "\n",
    "* Flexibilidad en la estructura: Una red neuronal completamente conectada permite definir libremente el número de capas ocultas y el número de neuronas en cada capa. Esto proporciona flexibilidad para ajustar la capacidad del modelo y adaptarlo a la complejidad de los datos.\n",
    "\n",
    "* Aprendizaje de características: Al tener múltiples capas ocultas, la red neuronal puede aprender características abstractas y de alto nivel a medida que se propaga la información a través de las capas. Esto permite capturar relaciones no lineales y realizar una clasificación más precisa.\n",
    "\n",
    "* Capacidad para manejar datos numéricos: Dado que el conjunto de características contiene variables numéricas después de aplicar la codificación one-hot, una red neuronal completamente conectada es adecuada para trabajar con estos tipos de datos y aprovechar la capacidad de procesamiento de los números."
   ]
  },
  {
   "cell_type": "markdown",
   "id": "c09129e9",
   "metadata": {},
   "source": [
    "#### Diseño de la red neuronal completamente conectada "
   ]
  },
  {
   "cell_type": "code",
   "execution_count": 29,
   "id": "52b89520",
   "metadata": {},
   "outputs": [
    {
     "name": "stdout",
     "output_type": "stream",
     "text": [
      "Model: \"sequential\"\n",
      "_________________________________________________________________\n",
      " Layer (type)                Output Shape              Param #   \n",
      "=================================================================\n",
      " dense (Dense)               (None, 64)                2624      \n",
      "                                                                 \n",
      " dense_1 (Dense)             (None, 2)                 130       \n",
      "                                                                 \n",
      "=================================================================\n",
      "Total params: 2,754\n",
      "Trainable params: 2,754\n",
      "Non-trainable params: 0\n",
      "_________________________________________________________________\n"
     ]
    }
   ],
   "source": [
    "# Crear el modelo\n",
    "model = Sequential()\n",
    "\n",
    "# Agregar la capa oculta\n",
    "model.add(Dense(64, activation='relu', input_shape=(40,)))\n",
    "\n",
    "# Agregar la capa de salida\n",
    "model.add(Dense(2, activation='softmax'))\n",
    "\n",
    "# Compilar el modelo\n",
    "model.compile(loss='categorical_crossentropy', optimizer='adam', metrics=['accuracy'])\n",
    "\n",
    "# Mostrar un resumen del modelo\n",
    "model.summary()\n"
   ]
  },
  {
   "cell_type": "markdown",
   "id": "ad7ae36c",
   "metadata": {},
   "source": [
    "El modelo utiliza la función de activación ReLU en las capas ocultas y la función de activación Softmax en la capa de salida.\n",
    "\n",
    "El optimizador utilizado es Adam y la función de pérdida es la entropía cruzada categórica, ya que se trata de un problema de clasificación multiclase."
   ]
  },
  {
   "cell_type": "markdown",
   "id": "fe5d34d9",
   "metadata": {},
   "source": [
    "#### Entrenamiento del modelo"
   ]
  },
  {
   "cell_type": "code",
   "execution_count": 31,
   "id": "fbc8f0fd",
   "metadata": {
    "scrolled": false
   },
   "outputs": [
    {
     "name": "stdout",
     "output_type": "stream",
     "text": [
      "Epoch 1/10\n",
      "474/474 [==============================] - 1s 3ms/step - loss: 5.1741e-06 - accuracy: 1.0000 - val_loss: 5.0286e-06 - val_accuracy: 1.0000\n",
      "Epoch 2/10\n",
      "474/474 [==============================] - 1s 3ms/step - loss: 3.9468e-06 - accuracy: 1.0000 - val_loss: 3.9446e-06 - val_accuracy: 1.0000\n",
      "Epoch 3/10\n",
      "474/474 [==============================] - 1s 3ms/step - loss: 3.0294e-06 - accuracy: 1.0000 - val_loss: 2.9730e-06 - val_accuracy: 1.0000\n",
      "Epoch 4/10\n",
      "474/474 [==============================] - 1s 3ms/step - loss: 2.3153e-06 - accuracy: 1.0000 - val_loss: 2.3156e-06 - val_accuracy: 1.0000\n",
      "Epoch 5/10\n",
      "474/474 [==============================] - 1s 3ms/step - loss: 1.7784e-06 - accuracy: 1.0000 - val_loss: 1.7783e-06 - val_accuracy: 1.0000\n",
      "Epoch 6/10\n",
      "474/474 [==============================] - 1s 3ms/step - loss: 1.3717e-06 - accuracy: 1.0000 - val_loss: 1.3996e-06 - val_accuracy: 1.0000\n",
      "Epoch 7/10\n",
      "474/474 [==============================] - 1s 3ms/step - loss: 1.0571e-06 - accuracy: 1.0000 - val_loss: 1.0715e-06 - val_accuracy: 1.0000\n",
      "Epoch 8/10\n",
      "474/474 [==============================] - 1s 3ms/step - loss: 8.2087e-07 - accuracy: 1.0000 - val_loss: 8.5392e-07 - val_accuracy: 1.0000\n",
      "Epoch 9/10\n",
      "474/474 [==============================] - 1s 3ms/step - loss: 6.2889e-07 - accuracy: 1.0000 - val_loss: 6.2518e-07 - val_accuracy: 1.0000\n",
      "Epoch 10/10\n",
      "474/474 [==============================] - 1s 3ms/step - loss: 4.8052e-07 - accuracy: 1.0000 - val_loss: 4.8065e-07 - val_accuracy: 1.0000\n",
      "Precisión de entrenamiento: 1.0\n",
      "Precisión de validación: 1.0\n",
      "Pérdida de entrenamiento: 4.805246476280445e-07\n",
      "Pérdida de validación: 4.80648566281161e-07\n"
     ]
    }
   ],
   "source": [
    "# Entrenar el modelo\n",
    "history = model.fit(X_train_selected, y_train, batch_size=12, epochs=10, validation_data=(X_val_selected, y_val))\n",
    "\n",
    "\n",
    "# Obtener las métricas de precisión y pérdida\n",
    "train_accuracy = history.history['accuracy']\n",
    "val_accuracy = history.history['val_accuracy']\n",
    "train_loss = history.history['loss']\n",
    "val_loss = history.history['val_loss']\n",
    "\n",
    "# Imprimir las métricas\n",
    "print(\"Precisión de entrenamiento:\", train_accuracy[-1])\n",
    "print(\"Precisión de validación:\", val_accuracy[-1])\n",
    "print(\"Pérdida de entrenamiento:\", train_loss[-1])\n",
    "print(\"Pérdida de validación:\", val_loss[-1])\n"
   ]
  },
  {
   "cell_type": "code",
   "execution_count": 32,
   "id": "124d786b",
   "metadata": {
    "scrolled": true
   },
   "outputs": [
    {
     "name": "stdout",
     "output_type": "stream",
     "text": [
      "39/39 [==============================] - 0s 3ms/step - loss: 4.6158e-07 - accuracy: 1.0000\n",
      "Precisión en el conjunto de prueba: 1.0\n",
      "Pérdida en el conjunto de prueba: 4.615779118921637e-07\n"
     ]
    }
   ],
   "source": [
    "# Evaluar el modelo en el conjunto de prueba\n",
    "test_loss, test_accuracy = model.evaluate(X_test_selected, y_test)\n",
    "print(\"Precisión en el conjunto de prueba:\", test_accuracy)\n",
    "print(\"Pérdida en el conjunto de prueba:\", test_loss)\n"
   ]
  },
  {
   "cell_type": "markdown",
   "id": "5c2c92bc",
   "metadata": {},
   "source": [
    "Esto último proporciona una evaluación final del rendimiento del modelo en datos no vistos, lo que permite obtener una estimación de su capacidad para generalizar y hacer predicciones precisas en situaciones reales."
   ]
  },
  {
   "cell_type": "markdown",
   "id": "7d49dc2c",
   "metadata": {},
   "source": [
    "#### Verificación de NO sobreajuste mediante Validación Cruzada\n",
    "\n",
    "La validación cruzada es una técnica utilizada para evaluar el rendimiento de un modelo de machine learning de manera más robusta. \n",
    "\n",
    "En lugar de evaluar el modelo en un solo conjunto de entrenamiento y prueba, se divide el conjunto de entrenamiento en múltiples partes llamadas \"folds\". Luego, el modelo se entrena y evalúa varias veces, utilizando diferentes combinaciones de folds como conjunto de entrenamiento y prueba.\n",
    "\n",
    "Realizar la validación cruzada ayuda a obtener una estimación más precisa del rendimiento del modelo y permite evaluar su capacidad para generalizar en diferentes conjuntos de datos."
   ]
  },
  {
   "cell_type": "code",
   "execution_count": 35,
   "id": "6ed901c2",
   "metadata": {},
   "outputs": [
    {
     "name": "stderr",
     "output_type": "stream",
     "text": [
      "C:\\Users\\adame\\AppData\\Local\\Temp\\ipykernel_13500\\1350314373.py:18: DeprecationWarning: KerasClassifier is deprecated, use Sci-Keras (https://github.com/adriangb/scikeras) instead. See https://www.adriangb.com/scikeras/stable/migration.html for help migrating.\n",
      "  model = KerasClassifier(build_fn=create_model, epochs=10, batch_size=64, verbose=0)\n"
     ]
    },
    {
     "name": "stdout",
     "output_type": "stream",
     "text": [
      "Precisión promedio: 0.9994722962379455\n",
      "Desviación estándar de la precisión: 0.0007036000491135349\n"
     ]
    }
   ],
   "source": [
    "# Definir la función para crear el modelo\n",
    "def create_model():\n",
    "       # Crear el modelo\n",
    "    model = Sequential()\n",
    "\n",
    "    # Agregar la  capa oculta\n",
    "    model.add(Dense(64, activation='relu', input_shape=(40,)))\n",
    "\n",
    "    # Agregar la capa de salida\n",
    "    model.add(Dense(2, activation='softmax'))\n",
    "    model.compile(loss='categorical_crossentropy',optimizer='adam', metrics=['accuracy'])\n",
    "    return model\n",
    "\n",
    "# Crear el clasificador de Keras\n",
    "model = KerasClassifier(build_fn=create_model, epochs=10, batch_size=64, verbose=0)\n",
    "\n",
    "# Realizar la validación cruzada\n",
    "scores = cross_val_score(model, X_train_selected, y_train, cv=5) # 5 folds\n",
    "\n",
    "# Imprimir los resultados\n",
    "print(\"Precisión promedio:\", scores.mean())\n",
    "print(\"Desviación estándar de la precisión:\", scores.std())\n"
   ]
  },
  {
   "cell_type": "markdown",
   "id": "fdaa7925",
   "metadata": {},
   "source": [
    "Del promedio de precisión anterior y la desviación estándar de la misma, sugieren que el modelo tiene un rendimiento muy alto y es consistente en diferentes conjuntos de entrenamiento y prueba."
   ]
  },
  {
   "cell_type": "markdown",
   "id": "ff404c6f",
   "metadata": {},
   "source": [
    "#### Modelo 2. Red Neuronal completamente conectada con 2 capas ocultas"
   ]
  },
  {
   "cell_type": "code",
   "execution_count": 37,
   "id": "c48a43fa",
   "metadata": {},
   "outputs": [
    {
     "name": "stdout",
     "output_type": "stream",
     "text": [
      "Model: \"sequential_7\"\n",
      "_________________________________________________________________\n",
      " Layer (type)                Output Shape              Param #   \n",
      "=================================================================\n",
      " dense_15 (Dense)            (None, 64)                2624      \n",
      "                                                                 \n",
      " dense_16 (Dense)            (None, 32)                2080      \n",
      "                                                                 \n",
      " dense_17 (Dense)            (None, 2)                 66        \n",
      "                                                                 \n",
      "=================================================================\n",
      "Total params: 4,770\n",
      "Trainable params: 4,770\n",
      "Non-trainable params: 0\n",
      "_________________________________________________________________\n"
     ]
    }
   ],
   "source": [
    "# Crear el modelo\n",
    "model = Sequential()\n",
    "\n",
    "# Agregar la primera capa oculta\n",
    "model.add(Dense(64, activation='relu', input_shape=(40,)))\n",
    "\n",
    "# Agregar la segunda capa oculta\n",
    "model.add(Dense(32, activation='relu'))\n",
    "\n",
    "# Agregar la capa de salida\n",
    "model.add(Dense(2, activation='softmax'))\n",
    "\n",
    "# Compilar el modelo\n",
    "model.compile(loss='categorical_crossentropy', optimizer='adam', metrics=['accuracy'])\n",
    "\n",
    "# Imprimir un resumen del modelo\n",
    "model.summary()\n"
   ]
  },
  {
   "cell_type": "markdown",
   "id": "e27c2742",
   "metadata": {},
   "source": [
    "#### Entrenamiento del modelo"
   ]
  },
  {
   "cell_type": "code",
   "execution_count": 38,
   "id": "c2ad1fbf",
   "metadata": {},
   "outputs": [
    {
     "name": "stdout",
     "output_type": "stream",
     "text": [
      "Epoch 1/10\n",
      "89/89 [==============================] - 1s 3ms/step - loss: 0.2186 - accuracy: 0.9233 - val_loss: 0.0827 - val_accuracy: 0.9754\n",
      "Epoch 2/10\n",
      "89/89 [==============================] - 0s 2ms/step - loss: 0.0454 - accuracy: 0.9866 - val_loss: 0.0252 - val_accuracy: 0.9975\n",
      "Epoch 3/10\n",
      "89/89 [==============================] - 0s 2ms/step - loss: 0.0142 - accuracy: 0.9981 - val_loss: 0.0081 - val_accuracy: 0.9992\n",
      "Epoch 4/10\n",
      "89/89 [==============================] - 0s 2ms/step - loss: 0.0053 - accuracy: 0.9993 - val_loss: 0.0033 - val_accuracy: 0.9992\n",
      "Epoch 5/10\n",
      "89/89 [==============================] - 0s 2ms/step - loss: 0.0026 - accuracy: 0.9995 - val_loss: 0.0018 - val_accuracy: 1.0000\n",
      "Epoch 6/10\n",
      "89/89 [==============================] - 0s 2ms/step - loss: 0.0013 - accuracy: 1.0000 - val_loss: 0.0011 - val_accuracy: 1.0000\n",
      "Epoch 7/10\n",
      "89/89 [==============================] - 0s 2ms/step - loss: 8.0826e-04 - accuracy: 1.0000 - val_loss: 6.8848e-04 - val_accuracy: 1.0000\n",
      "Epoch 8/10\n",
      "89/89 [==============================] - 0s 2ms/step - loss: 5.3771e-04 - accuracy: 1.0000 - val_loss: 4.8637e-04 - val_accuracy: 1.0000\n",
      "Epoch 9/10\n",
      "89/89 [==============================] - 0s 2ms/step - loss: 3.7501e-04 - accuracy: 1.0000 - val_loss: 3.4265e-04 - val_accuracy: 1.0000\n",
      "Epoch 10/10\n",
      "89/89 [==============================] - 0s 2ms/step - loss: 2.8353e-04 - accuracy: 1.0000 - val_loss: 2.6165e-04 - val_accuracy: 1.0000\n",
      "Precisión de entrenamiento: 1.0\n",
      "Precisión de validación: 1.0\n",
      "Pérdida de entrenamiento: 0.00028352710069157183\n",
      "Pérdida de validación: 0.00026164762675762177\n"
     ]
    }
   ],
   "source": [
    "# Entrenar el modelo\n",
    "history = model.fit(X_train_selected, y_train, batch_size=64, epochs=10, validation_data=(X_val_selected, y_val))\n",
    "\n",
    "# Obtener las métricas de precisión y pérdida\n",
    "train_accuracy = history.history['accuracy']\n",
    "val_accuracy = history.history['val_accuracy']\n",
    "train_loss = history.history['loss']\n",
    "val_loss = history.history['val_loss']\n",
    "\n",
    "# Imprimir las métricas\n",
    "print(\"Precisión de entrenamiento:\", train_accuracy[-1])\n",
    "print(\"Precisión de validación:\", val_accuracy[-1])\n",
    "print(\"Pérdida de entrenamiento:\", train_loss[-1])\n",
    "print(\"Pérdida de validación:\", val_loss[-1])\n"
   ]
  },
  {
   "cell_type": "code",
   "execution_count": 39,
   "id": "bd919ebf",
   "metadata": {},
   "outputs": [
    {
     "name": "stdout",
     "output_type": "stream",
     "text": [
      "39/39 [==============================] - 0s 1ms/step - loss: 2.5548e-04 - accuracy: 1.0000\n",
      "Precisión en el conjunto de prueba: 1.0\n",
      "Pérdida en el conjunto de prueba: 0.00025547895347699523\n"
     ]
    }
   ],
   "source": [
    "# Evaluar el modelo en el conjunto de prueba\n",
    "test_loss, test_accuracy = model.evaluate(X_test_selected, y_test)\n",
    "print(\"Precisión en el conjunto de prueba:\", test_accuracy)\n",
    "print(\"Pérdida en el conjunto de prueba:\", test_loss)\n"
   ]
  },
  {
   "cell_type": "markdown",
   "id": "bac8913e",
   "metadata": {},
   "source": [
    "#### Validación cruzada"
   ]
  },
  {
   "cell_type": "code",
   "execution_count": 40,
   "id": "0b5ee070",
   "metadata": {},
   "outputs": [
    {
     "name": "stderr",
     "output_type": "stream",
     "text": [
      "C:\\Users\\adame\\AppData\\Local\\Temp\\ipykernel_13500\\1299674480.py:18: DeprecationWarning: KerasClassifier is deprecated, use Sci-Keras (https://github.com/adriangb/scikeras) instead. See https://www.adriangb.com/scikeras/stable/migration.html for help migrating.\n",
      "  model = KerasClassifier(build_fn=create_model, epochs=10, batch_size=64, verbose=0)\n"
     ]
    },
    {
     "name": "stdout",
     "output_type": "stream",
     "text": [
      "Precisión promedio: 1.0\n",
      "Desviación estándar de la precisión: 0.0\n"
     ]
    }
   ],
   "source": [
    "# Definir la función para crear el modelo\n",
    "def create_model():\n",
    "       # Crear el modelo\n",
    "    model = Sequential()\n",
    "\n",
    "    # Agregar la primera capa oculta\n",
    "    model.add(Dense(64, activation='relu', input_shape=(40,)))\n",
    "\n",
    "    # Agregar la segunda capa oculta\n",
    "    model.add(Dense(32, activation='relu'))\n",
    "\n",
    "    # Agregar la capa de salida\n",
    "    model.add(Dense(2, activation='softmax'))\n",
    "    model.compile(loss='categorical_crossentropy', optimizer='adam',  metrics=['accuracy'])\n",
    "    return model\n",
    "\n",
    "# Crear el clasificador de Keras\n",
    "model = KerasClassifier(build_fn=create_model, epochs=10, batch_size=64, verbose=0)\n",
    "\n",
    "# Realizar la validación cruzada\n",
    "scores = cross_val_score(model, X_train_selected, y_train, cv=5)\n",
    "\n",
    "# Imprimir los resultados\n",
    "print(\"Precisión promedio:\", scores.mean())\n",
    "print(\"Desviación estándar de la precisión:\", scores.std())\n"
   ]
  },
  {
   "cell_type": "markdown",
   "id": "62374773",
   "metadata": {},
   "source": [
    "Una precisión promedio de 1.0 significa que el modelo clasifica correctamente todas las instancias en todos los folds de la validación cruzada. La desviación estándar de 0.0 indica que no hay variación en el rendimiento del modelo en los diferentes folds, lo cual es un resultado excepcional."
   ]
  },
  {
   "cell_type": "markdown",
   "id": "7ec4b6b3",
   "metadata": {},
   "source": [
    "#### Matrices de confusión"
   ]
  },
  {
   "cell_type": "markdown",
   "id": "4533cab9",
   "metadata": {},
   "source": [
    "#### Modelo 1."
   ]
  },
  {
   "cell_type": "code",
   "execution_count": 131,
   "id": "dff1b05b",
   "metadata": {},
   "outputs": [
    {
     "name": "stdout",
     "output_type": "stream",
     "text": [
      "Epoch 1/10\n",
      "89/89 [==============================] - 1s 3ms/step - loss: 0.2956 - accuracy: 0.8732 - val_loss: 0.1531 - val_accuracy: 0.9508\n",
      "Epoch 2/10\n",
      "89/89 [==============================] - 0s 2ms/step - loss: 0.1004 - accuracy: 0.9713 - val_loss: 0.0797 - val_accuracy: 0.9696\n",
      "Epoch 3/10\n",
      "89/89 [==============================] - 0s 2ms/step - loss: 0.0568 - accuracy: 0.9828 - val_loss: 0.0477 - val_accuracy: 0.9877\n",
      "Epoch 4/10\n",
      "89/89 [==============================] - 0s 2ms/step - loss: 0.0343 - accuracy: 0.9902 - val_loss: 0.0285 - val_accuracy: 0.9984\n",
      "Epoch 5/10\n",
      "89/89 [==============================] - 0s 2ms/step - loss: 0.0218 - accuracy: 0.9960 - val_loss: 0.0186 - val_accuracy: 0.9992\n",
      "Epoch 6/10\n",
      "89/89 [==============================] - 0s 2ms/step - loss: 0.0148 - accuracy: 0.9986 - val_loss: 0.0132 - val_accuracy: 0.9992\n",
      "Epoch 7/10\n",
      "89/89 [==============================] - 0s 2ms/step - loss: 0.0107 - accuracy: 0.9988 - val_loss: 0.0095 - val_accuracy: 0.9992\n",
      "Epoch 8/10\n",
      "89/89 [==============================] - 0s 2ms/step - loss: 0.0079 - accuracy: 0.9998 - val_loss: 0.0072 - val_accuracy: 1.0000\n",
      "Epoch 9/10\n",
      "89/89 [==============================] - 0s 2ms/step - loss: 0.0060 - accuracy: 1.0000 - val_loss: 0.0057 - val_accuracy: 1.0000\n",
      "Epoch 10/10\n",
      "89/89 [==============================] - 0s 2ms/step - loss: 0.0048 - accuracy: 1.0000 - val_loss: 0.0045 - val_accuracy: 1.0000\n",
      "39/39 [==============================] - 0s 1ms/step\n"
     ]
    }
   ],
   "source": [
    "# Obtener las predicciones en el conjunto de prueba\n",
    "# Crear el modelo\n",
    "model = Sequential()\n",
    "\n",
    "# Agregar la primera capa oculta\n",
    "model.add(Dense(64, activation='relu', input_shape=(40,)))\n",
    "\n",
    "\n",
    "# Agregar la capa de salida\n",
    "model.add(Dense(2, activation='softmax'))\n",
    "\n",
    "# Compilar el modelo\n",
    "model.compile(loss='categorical_crossentropy', optimizer='adam', metrics=['accuracy'])# Crear el modelo\n",
    "\n",
    "from sklearn.metrics import confusion_matrix\n",
    "\n",
    "# Entrenar el modelo con los conjuntos de entrenamiento y validación seleccionados\n",
    "model.fit(X_train_selected, y_train, validation_data=(X_val_selected, y_val), epochs=10, batch_size=64)\n",
    "\n",
    "# Realizar predicciones en el conjunto de prueba\n",
    "y_pred = model.predict(X_test_selected)\n",
    "y_pred_classes = np.argmax(y_pred, axis=1)\n",
    "y_test_classes = np.argmax(np.array(y_test), axis=1)\n",
    "\n",
    "# Calcular la matriz de confusión\n",
    "confusion_matrix = confusion_matrix(y_test_classes, y_pred_classes)\n",
    "\n",
    "# # Mostrar la matriz de confusión\n",
    "# print(\"Matriz de confusión:\")\n",
    "# print(confusion_matrix)\n"
   ]
  },
  {
   "cell_type": "code",
   "execution_count": 133,
   "id": "f1782ff2",
   "metadata": {},
   "outputs": [
    {
     "data": {
      "image/png": "[encoded data removed]",
      "text/plain": [
       "<Figure size 640x480 with 2 Axes>"
      ]
     },
     "metadata": {},
     "output_type": "display_data"
    }
   ],
   "source": [
    "import seaborn as sns\n",
    "import matplotlib.pyplot as plt\n",
    "\n",
    "\n",
    "# Crear un mapa de calor de la matriz de confusión utilizando Seaborn\n",
    "sns.heatmap(confusion_matrix, annot=True, fmt='d', cmap='Blues')\n",
    "\n",
    "# Configurar las etiquetas de los ejes\n",
    "plt.xlabel('Poisonous')\n",
    "plt.ylabel('Edible')\n",
    "\n",
    "# Mostrar el título\n",
    "plt.title('Matriz de Confusión Modelo 1')\n",
    "\n",
    "# Mostrar la gráfica\n",
    "plt.show()\n"
   ]
  },
  {
   "cell_type": "markdown",
   "id": "cfb01f18",
   "metadata": {},
   "source": [
    "#### Modelo 2."
   ]
  },
  {
   "cell_type": "code",
   "execution_count": 134,
   "id": "fff619d2",
   "metadata": {},
   "outputs": [
    {
     "name": "stdout",
     "output_type": "stream",
     "text": [
      "Epoch 1/10\n",
      "178/178 [==============================] - 1s 3ms/step - loss: 0.1581 - accuracy: 0.9557 - val_loss: 0.0368 - val_accuracy: 0.9893\n",
      "Epoch 2/10\n",
      "178/178 [==============================] - 0s 2ms/step - loss: 0.0170 - accuracy: 0.9961 - val_loss: 0.0074 - val_accuracy: 0.9992\n",
      "Epoch 3/10\n",
      "178/178 [==============================] - 0s 2ms/step - loss: 0.0046 - accuracy: 0.9991 - val_loss: 0.0025 - val_accuracy: 1.0000\n",
      "Epoch 4/10\n",
      "178/178 [==============================] - 0s 2ms/step - loss: 0.0016 - accuracy: 1.0000 - val_loss: 0.0011 - val_accuracy: 1.0000\n",
      "Epoch 5/10\n",
      "178/178 [==============================] - 0s 2ms/step - loss: 7.3071e-04 - accuracy: 1.0000 - val_loss: 4.8332e-04 - val_accuracy: 1.0000\n",
      "Epoch 6/10\n",
      "178/178 [==============================] - 0s 2ms/step - loss: 3.5648e-04 - accuracy: 1.0000 - val_loss: 2.5401e-04 - val_accuracy: 1.0000\n",
      "Epoch 7/10\n",
      "178/178 [==============================] - 0s 2ms/step - loss: 2.0039e-04 - accuracy: 1.0000 - val_loss: 1.5461e-04 - val_accuracy: 1.0000\n",
      "Epoch 8/10\n",
      "178/178 [==============================] - 0s 2ms/step - loss: 1.2726e-04 - accuracy: 1.0000 - val_loss: 1.0564e-04 - val_accuracy: 1.0000\n",
      "Epoch 9/10\n",
      "178/178 [==============================] - 0s 2ms/step - loss: 8.7502e-05 - accuracy: 1.0000 - val_loss: 7.5509e-05 - val_accuracy: 1.0000\n",
      "Epoch 10/10\n",
      "178/178 [==============================] - 0s 2ms/step - loss: 6.3513e-05 - accuracy: 1.0000 - val_loss: 5.4803e-05 - val_accuracy: 1.0000\n",
      "39/39 [==============================] - 0s 1ms/step\n"
     ]
    }
   ],
   "source": [
    "# Obtener las predicciones en el conjunto de prueba\n",
    "# Crear el modelo\n",
    "model = Sequential()\n",
    "\n",
    "# Agregar la primera capa oculta\n",
    "model.add(Dense(64, activation='relu', input_shape=(40,)))\n",
    "\n",
    "# Agregar la segunda capa oculta\n",
    "model.add(Dense(32, activation='relu'))\n",
    "\n",
    "# Agregar la capa de salida\n",
    "model.add(Dense(2, activation='softmax'))\n",
    "\n",
    "# Compilar el modelo\n",
    "model.compile(loss='categorical_crossentropy', optimizer='adam', metrics=['accuracy'])# Crear el modelo\n",
    "# model = Sequential()\n",
    "\n",
    "# # Agregar la primera capa oculta\n",
    "# model.add(Dense(64, activation='relu', input_shape=(40,)))\n",
    "\n",
    "# # Agregar la segunda capa oculta\n",
    "# model.add(Dense(32, activation='relu'))\n",
    "\n",
    "# # Agregar la capa de salida\n",
    "# model.add(Dense(2, activation='softmax'))\n",
    "\n",
    "# # Compilar el modelo\n",
    "# model.compile(loss='categorical_crossentropy', optimizer='adam', metrics=['accuracy'])\n",
    "\n",
    "\n",
    "from sklearn.metrics import confusion_matrix\n",
    "\n",
    "# Entrenar el modelo con los conjuntos de entrenamiento y validación seleccionados\n",
    "model.fit(X_train_selected, y_train, validation_data=(X_val_selected, y_val), epochs=10, batch_size=32)\n",
    "\n",
    "# Realizar predicciones en el conjunto de prueba\n",
    "y_pred = model.predict(X_test_selected)\n",
    "y_pred_classes = np.argmax(y_pred, axis=1)\n",
    "y_test_classes = np.argmax(np.array(y_test), axis=1)\n",
    "\n",
    "# Calcular la matriz de confusión\n",
    "confusion_matrix = confusion_matrix(y_test_classes, y_pred_classes)\n",
    "\n",
    "# # Mostrar la matriz de confusión\n",
    "# print(\"Matriz de confusión:\")\n",
    "# print(confusion_matrix)\n"
   ]
  },
  {
   "cell_type": "code",
   "execution_count": 135,
   "id": "14a2d938",
   "metadata": {},
   "outputs": [
    {
     "data": {
      "image/png": "[encoded data removed]",
      "text/plain": [
       "<Figure size 640x480 with 2 Axes>"
      ]
     },
     "metadata": {},
     "output_type": "display_data"
    }
   ],
   "source": [
    "import seaborn as sns\n",
    "import matplotlib.pyplot as plt\n",
    "\n",
    "\n",
    "# Crear un mapa de calor de la matriz de confusión utilizando Seaborn\n",
    "sns.heatmap(confusion_matrix, annot=True, fmt='d', cmap='Blues')\n",
    "\n",
    "# Configurar las etiquetas de los ejes\n",
    "plt.xlabel('Poisonous')\n",
    "plt.ylabel('Edible')\n",
    "\n",
    "# Mostrar el título\n",
    "plt.title('Matriz de Confusión Modelo 2')\n",
    "\n",
    "# Mostrar la gráfica\n",
    "plt.show()\n"
   ]
  },
  {
   "cell_type": "code",
   "execution_count": null,
   "id": "ac1c169f",
   "metadata": {},
   "outputs": [],
   "source": []
  },
  {
   "cell_type": "code",
   "execution_count": null,
   "id": "7edf6e6a",
   "metadata": {},
   "outputs": [],
   "source": []
  }
 ],
 "metadata": {
  "kernelspec": {
   "display_name": "Python 3 (ipykernel)",
   "language": "python",
   "name": "python3"
  },
  "language_info": {
   "codemirror_mode": {
    "name": "ipython",
    "version": 3
   },
   "file_extension": ".py",
   "mimetype": "text/x-python",
   "name": "python",
   "nbconvert_exporter": "python",
   "pygments_lexer": "ipython3",
   "version": "3.11.1"
  }
 },
 "nbformat": 4,
 "nbformat_minor": 5
}
